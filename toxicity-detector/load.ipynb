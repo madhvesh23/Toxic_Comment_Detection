{
 "cells": [
  {
   "cell_type": "markdown",
   "metadata": {},
   "source": [
    "Step 1 \n",
    "- Loaded and explored Jigsaw train.csv and all_data.csv (sample)\n",
    "- Analyzed toxicity label distribution and comment lengths\n",
    "- Added a binary toxic label for simplified classification\n",
    "- Identified real ambiguous and obfuscated words for later use"
   ]
  },
  {
   "cell_type": "code",
   "execution_count": 90,
   "metadata": {},
   "outputs": [],
   "source": [
    "# 📦 Import Libraries\n",
    "import pandas as pd\n",
    "import matplotlib.pyplot as plt\n",
    "import seaborn as sns\n",
    "\n",
    "# Set plot styles\n",
    "sns.set(style=\"whitegrid\")\n",
    "%matplotlib inline"
   ]
  },
  {
   "cell_type": "markdown",
   "metadata": {},
   "source": [
    " Load the Primary Dataset (train.csv)"
   ]
  },
  {
   "cell_type": "code",
   "execution_count": 91,
   "metadata": {},
   "outputs": [
    {
     "name": "stdout",
     "output_type": "stream",
     "text": [
      "Sample rows from train.csv:\n"
     ]
    },
    {
     "data": {
      "text/html": [
       "<div>\n",
       "<style scoped>\n",
       "    .dataframe tbody tr th:only-of-type {\n",
       "        vertical-align: middle;\n",
       "    }\n",
       "\n",
       "    .dataframe tbody tr th {\n",
       "        vertical-align: top;\n",
       "    }\n",
       "\n",
       "    .dataframe thead th {\n",
       "        text-align: right;\n",
       "    }\n",
       "</style>\n",
       "<table border=\"1\" class=\"dataframe\">\n",
       "  <thead>\n",
       "    <tr style=\"text-align: right;\">\n",
       "      <th></th>\n",
       "      <th>id</th>\n",
       "      <th>comment_text</th>\n",
       "      <th>toxic</th>\n",
       "      <th>severe_toxic</th>\n",
       "      <th>obscene</th>\n",
       "      <th>threat</th>\n",
       "      <th>insult</th>\n",
       "      <th>identity_hate</th>\n",
       "    </tr>\n",
       "  </thead>\n",
       "  <tbody>\n",
       "    <tr>\n",
       "      <th>0</th>\n",
       "      <td>0000997932d777bf</td>\n",
       "      <td>Explanation\\nWhy the edits made under my usern...</td>\n",
       "      <td>0</td>\n",
       "      <td>0</td>\n",
       "      <td>0</td>\n",
       "      <td>0</td>\n",
       "      <td>0</td>\n",
       "      <td>0</td>\n",
       "    </tr>\n",
       "    <tr>\n",
       "      <th>1</th>\n",
       "      <td>000103f0d9cfb60f</td>\n",
       "      <td>D'aww! He matches this background colour I'm s...</td>\n",
       "      <td>0</td>\n",
       "      <td>0</td>\n",
       "      <td>0</td>\n",
       "      <td>0</td>\n",
       "      <td>0</td>\n",
       "      <td>0</td>\n",
       "    </tr>\n",
       "    <tr>\n",
       "      <th>2</th>\n",
       "      <td>000113f07ec002fd</td>\n",
       "      <td>Hey man, I'm really not trying to edit war. It...</td>\n",
       "      <td>0</td>\n",
       "      <td>0</td>\n",
       "      <td>0</td>\n",
       "      <td>0</td>\n",
       "      <td>0</td>\n",
       "      <td>0</td>\n",
       "    </tr>\n",
       "    <tr>\n",
       "      <th>3</th>\n",
       "      <td>0001b41b1c6bb37e</td>\n",
       "      <td>\"\\nMore\\nI can't make any real suggestions on ...</td>\n",
       "      <td>0</td>\n",
       "      <td>0</td>\n",
       "      <td>0</td>\n",
       "      <td>0</td>\n",
       "      <td>0</td>\n",
       "      <td>0</td>\n",
       "    </tr>\n",
       "    <tr>\n",
       "      <th>4</th>\n",
       "      <td>0001d958c54c6e35</td>\n",
       "      <td>You, sir, are my hero. Any chance you remember...</td>\n",
       "      <td>0</td>\n",
       "      <td>0</td>\n",
       "      <td>0</td>\n",
       "      <td>0</td>\n",
       "      <td>0</td>\n",
       "      <td>0</td>\n",
       "    </tr>\n",
       "  </tbody>\n",
       "</table>\n",
       "</div>"
      ],
      "text/plain": [
       "                 id                                       comment_text  toxic  \\\n",
       "0  0000997932d777bf  Explanation\\nWhy the edits made under my usern...      0   \n",
       "1  000103f0d9cfb60f  D'aww! He matches this background colour I'm s...      0   \n",
       "2  000113f07ec002fd  Hey man, I'm really not trying to edit war. It...      0   \n",
       "3  0001b41b1c6bb37e  \"\\nMore\\nI can't make any real suggestions on ...      0   \n",
       "4  0001d958c54c6e35  You, sir, are my hero. Any chance you remember...      0   \n",
       "\n",
       "   severe_toxic  obscene  threat  insult  identity_hate  \n",
       "0             0        0       0       0              0  \n",
       "1             0        0       0       0              0  \n",
       "2             0        0       0       0              0  \n",
       "3             0        0       0       0              0  \n",
       "4             0        0       0       0              0  "
      ]
     },
     "metadata": {},
     "output_type": "display_data"
    },
    {
     "name": "stdout",
     "output_type": "stream",
     "text": [
      "Toxic label columns: ['toxic', 'severe_toxic', 'obscene', 'threat', 'insult', 'identity_hate']\n"
     ]
    }
   ],
   "source": [
    "# Load main Jigsaw Toxic dataset\n",
    "train_df = pd.read_csv(\"data/train.csv\")\n",
    "\n",
    "# Show first few rows\n",
    "print(\"Sample rows from train.csv:\")\n",
    "display(train_df.head())\n",
    "\n",
    "# Show label columns\n",
    "label_cols = ['toxic', 'severe_toxic', 'obscene', 'threat', 'insult', 'identity_hate']\n",
    "print(\"Toxic label columns:\", label_cols)"
   ]
  },
  {
   "cell_type": "markdown",
   "metadata": {},
   "source": [
    "Label Distribution (Multi-label)"
   ]
  },
  {
   "cell_type": "code",
   "execution_count": 92,
   "metadata": {},
   "outputs": [
    {
     "data": {
      "image/png": "[encoded data removed]",
      "text/plain": [
       "<Figure size 800x400 with 1 Axes>"
      ]
     },
     "metadata": {},
     "output_type": "display_data"
    }
   ],
   "source": [
    "# Sum across label columns\n",
    "label_counts = train_df[label_cols].sum().sort_values(ascending=False)\n",
    "\n",
    "# Barplot of label frequencies\n",
    "plt.figure(figsize=(8, 4))\n",
    "sns.barplot(x=label_counts.index, y=label_counts.values)\n",
    "plt.title(\"Toxic Comment Label Distribution\")\n",
    "plt.xlabel(\"Label\")\n",
    "plt.ylabel(\"Number of Comments\")\n",
    "plt.show()"
   ]
  },
  {
   "cell_type": "markdown",
   "metadata": {},
   "source": [
    "Convert to Binary Toxic Label"
   ]
  },
  {
   "cell_type": "code",
   "execution_count": 93,
   "metadata": {},
   "outputs": [
    {
     "data": {
      "image/png": "[encoded data removed]",
      "text/plain": [
       "<Figure size 640x480 with 1 Axes>"
      ]
     },
     "metadata": {},
     "output_type": "display_data"
    },
    {
     "data": {
      "text/plain": [
       "toxic_binary\n",
       "0    143346\n",
       "1     16225\n",
       "Name: count, dtype: int64"
      ]
     },
     "execution_count": 93,
     "metadata": {},
     "output_type": "execute_result"
    }
   ],
   "source": [
    "# Add a binary label: toxic if any of the labels are 1\n",
    "train_df['toxic_binary'] = (train_df[label_cols].sum(axis=1) > 0).astype(int)\n",
    "\n",
    "# Distribution of binary label\n",
    "sns.countplot(x='toxic_binary', data=train_df)\n",
    "plt.title(\"Binary Toxic Label Distribution\")\n",
    "plt.xlabel(\"Label (0 = Non-Toxic, 1 = Toxic)\")\n",
    "plt.ylabel(\"Count\")\n",
    "plt.show()\n",
    "\n",
    "\n",
    "# Show the count of toxic vs non-toxic comments\n",
    "train_df['toxic_binary'].value_counts()"
   ]
  },
  {
   "cell_type": "markdown",
   "metadata": {},
   "source": [
    "Comment Length Analysis"
   ]
  },
  {
   "cell_type": "code",
   "execution_count": 94,
   "metadata": {},
   "outputs": [
    {
     "data": {
      "image/png": "[encoded data removed]",
      "text/plain": [
       "<Figure size 1000x500 with 1 Axes>"
      ]
     },
     "metadata": {},
     "output_type": "display_data"
    }
   ],
   "source": [
    "# Create a length feature\n",
    "train_df['text_length'] = train_df['comment_text'].apply(len)\n",
    "\n",
    "# Plot comment lengths by toxicity\n",
    "plt.figure(figsize=(10, 5))\n",
    "sns.histplot(data=train_df, x='text_length', hue='toxic_binary', bins=50, kde=True)\n",
    "plt.title(\"Comment Length Distribution (Toxic vs Non-Toxic)\")\n",
    "plt.xlabel(\"Comment Length\")\n",
    "plt.ylabel(\"Frequency\")\n",
    "plt.show()"
   ]
  },
  {
   "cell_type": "markdown",
   "metadata": {},
   "source": [
    "Ambiguous Words in Clean vs Toxic Context"
   ]
  },
  {
   "cell_type": "code",
   "execution_count": 95,
   "metadata": {},
   "outputs": [
    {
     "name": "stdout",
     "output_type": "stream",
     "text": [
      "'pussy' — Toxic: 157 | Non-Toxic: 20\n",
      "'bitch' — Toxic: 849 | Non-Toxic: 60\n",
      "'kill' — Toxic: 442 | Non-Toxic: 1631\n",
      "'bomb' — Toxic: 55 | Non-Toxic: 390\n",
      "'gay' — Toxic: 570 | Non-Toxic: 432\n"
     ]
    }
   ],
   "source": [
    "# Words that often get flagged inappropriately\n",
    "ambiguous_words = ['pussy', 'bitch', 'kill', 'bomb', 'gay']\n",
    "\n",
    "for word in ambiguous_words:\n",
    "    toxic_count = train_df[(train_df['toxic_binary'] == 1) & (train_df['comment_text'].str.contains(word, case=False))].shape[0]\n",
    "    non_toxic_count = train_df[(train_df['toxic_binary'] == 0) & (train_df['comment_text'].str.contains(word, case=False))].shape[0]\n",
    "    print(f\"'{word}' — Toxic: {toxic_count} | Non-Toxic: {non_toxic_count}\")"
   ]
  },
  {
   "cell_type": "markdown",
   "metadata": {},
   "source": [
    "Load Jigsaw Unintended Bias Dataset (Sampled) - (Optional) can be used in later steps."
   ]
  },
  {
   "cell_type": "code",
   "execution_count": 96,
   "metadata": {},
   "outputs": [
    {
     "name": "stdout",
     "output_type": "stream",
     "text": [
      "Sample rows from all_data.csv (Unintended Bias):\n"
     ]
    },
    {
     "data": {
      "text/html": [
       "<div>\n",
       "<style scoped>\n",
       "    .dataframe tbody tr th:only-of-type {\n",
       "        vertical-align: middle;\n",
       "    }\n",
       "\n",
       "    .dataframe tbody tr th {\n",
       "        vertical-align: top;\n",
       "    }\n",
       "\n",
       "    .dataframe thead th {\n",
       "        text-align: right;\n",
       "    }\n",
       "</style>\n",
       "<table border=\"1\" class=\"dataframe\">\n",
       "  <thead>\n",
       "    <tr style=\"text-align: right;\">\n",
       "      <th></th>\n",
       "      <th>comment_text</th>\n",
       "      <th>toxicity</th>\n",
       "    </tr>\n",
       "  </thead>\n",
       "  <tbody>\n",
       "    <tr>\n",
       "      <th>0</th>\n",
       "      <td>He got his money... now he lies in wait till a...</td>\n",
       "      <td>0.373134</td>\n",
       "    </tr>\n",
       "    <tr>\n",
       "      <th>1</th>\n",
       "      <td>Mad dog will surely put the liberals in mental...</td>\n",
       "      <td>0.605263</td>\n",
       "    </tr>\n",
       "    <tr>\n",
       "      <th>2</th>\n",
       "      <td>And Trump continues his lifelong cowardice by ...</td>\n",
       "      <td>0.666667</td>\n",
       "    </tr>\n",
       "    <tr>\n",
       "      <th>3</th>\n",
       "      <td>\"while arresting a man for resisting arrest\".\\...</td>\n",
       "      <td>0.815789</td>\n",
       "    </tr>\n",
       "    <tr>\n",
       "      <th>4</th>\n",
       "      <td>Tucker and Paul are both total bad ass mofo's.</td>\n",
       "      <td>0.550000</td>\n",
       "    </tr>\n",
       "  </tbody>\n",
       "</table>\n",
       "</div>"
      ],
      "text/plain": [
       "                                        comment_text  toxicity\n",
       "0  He got his money... now he lies in wait till a...  0.373134\n",
       "1  Mad dog will surely put the liberals in mental...  0.605263\n",
       "2  And Trump continues his lifelong cowardice by ...  0.666667\n",
       "3  \"while arresting a man for resisting arrest\".\\...  0.815789\n",
       "4     Tucker and Paul are both total bad ass mofo's.  0.550000"
      ]
     },
     "metadata": {},
     "output_type": "display_data"
    },
    {
     "name": "stdout",
     "output_type": "stream",
     "text": [
      "'k1ll' found in 0 comments in all_data.csv\n",
      "'b!tch' found in 1 comments in all_data.csv\n",
      "'@sshole' found in 0 comments in all_data.csv\n",
      "'f@ggot' found in 0 comments in all_data.csv\n",
      "'idi0t' found in 3 comments in all_data.csv\n"
     ]
    }
   ],
   "source": [
    "# Load a sample of the unintended bias dataset\n",
    "bias_df = pd.read_csv(\"data/all_data.csv\", nrows=100000)\n",
    "\n",
    "# Show sample rows\n",
    "print(\"Sample rows from all_data.csv (Unintended Bias):\")\n",
    "display(bias_df[['comment_text', 'toxicity']].head())\n",
    "\n",
    "# Convert toxicity score to binary\n",
    "bias_df['toxic_binary'] = (bias_df['toxicity'] > 0.5).astype(int)\n",
    "\n",
    "# Check for Obfuscated Terms in Real-world Samples\n",
    "\n",
    "# Look for obfuscated toxic words in bias dataset\n",
    "obfuscated_terms = ['k1ll', 'b!tch', '@sshole', 'f@ggot', 'idi0t']\n",
    "\n",
    "for word in obfuscated_terms:\n",
    "    matches = bias_df[bias_df['comment_text'].str.contains(word, case=False)]\n",
    "    print(f\"'{word}' found in {matches.shape[0]} comments in all_data.csv\")"
   ]
  },
  {
   "cell_type": "markdown",
   "metadata": {},
   "source": [
    "Step 2\n",
    "- Cleaned and preprocessed the text\n",
    "- Created binary labels for toxicity\n",
    "- Tokenized text using BERT tokenizer\n",
    "- Split data into train, val, test\n",
    "- Created 3 special evaluation sets:\n",
    "  • ambiguous_validation_df\n",
    "  • balanced_validation_df\n",
    "  • adversarial_test_df\n",
    "- Wrapped all into PyTorch Datasets and DataLoaders"
   ]
  },
  {
   "cell_type": "code",
   "execution_count": 97,
   "metadata": {},
   "outputs": [
    {
     "data": {
      "text/plain": [
       "toxic_binary\n",
       "0    143346\n",
       "1     16225\n",
       "Name: count, dtype: int64"
      ]
     },
     "execution_count": 97,
     "metadata": {},
     "output_type": "execute_result"
    }
   ],
   "source": [
    "import re\n",
    "import torch\n",
    "from torch.utils.data import Dataset, DataLoader\n",
    "from transformers import BertTokenizer\n",
    "from sklearn.model_selection import train_test_split\n",
    "\n",
    "# Show the count of toxic vs non-toxic comments\n",
    "train_df['toxic_binary'].value_counts()"
   ]
  },
  {
   "cell_type": "code",
   "execution_count": 98,
   "metadata": {},
   "outputs": [
    {
     "name": "stdout",
     "output_type": "stream",
     "text": [
      "Original: Explanation\n",
      "Why the edits made under my username Hardcore Metallica Fan were reverted? They weren't vandalisms, just closure on some GAs after I voted at New York Dolls FAC. And please don't remove the template from the talk page since I'm retired now.89.205.38.27\n",
      "Cleaned:  explanation why the edits made under my username hardcore metallica fan were reverted? they werent vandalisms just closure on some gas after i voted at new york dolls fac and please dont remove the template from the talk page since im retired now892053827\n",
      "--------------------------------------------------------------------------------\n",
      "Original: D'aww! He matches this background colour I'm seemingly stuck with. Thanks.  (talk) 21:51, January 11, 2016 (UTC)\n",
      "Cleaned:  daww! he matches this background colour im seemingly stuck with thanks talk 2151 january 11 2016 utc\n",
      "--------------------------------------------------------------------------------\n",
      "Original: Hey man, I'm really not trying to edit war. It's just that this guy is constantly removing relevant information and talking to me through edits instead of my talk page. He seems to care more about the formatting than the actual info.\n",
      "Cleaned:  hey man im really not trying to edit war its just that this guy is constantly removing relevant information and talking to me through edits instead of my talk page he seems to care more about the formatting than the actual info\n",
      "--------------------------------------------------------------------------------\n"
     ]
    },
    {
     "data": {
      "text/html": [
       "<div>\n",
       "<style scoped>\n",
       "    .dataframe tbody tr th:only-of-type {\n",
       "        vertical-align: middle;\n",
       "    }\n",
       "\n",
       "    .dataframe tbody tr th {\n",
       "        vertical-align: top;\n",
       "    }\n",
       "\n",
       "    .dataframe thead th {\n",
       "        text-align: right;\n",
       "    }\n",
       "</style>\n",
       "<table border=\"1\" class=\"dataframe\">\n",
       "  <thead>\n",
       "    <tr style=\"text-align: right;\">\n",
       "      <th></th>\n",
       "      <th>comment_text</th>\n",
       "      <th>clean_text</th>\n",
       "    </tr>\n",
       "  </thead>\n",
       "  <tbody>\n",
       "    <tr>\n",
       "      <th>0</th>\n",
       "      <td>Explanation\\nWhy the edits made under my usern...</td>\n",
       "      <td>explanation why the edits made under my userna...</td>\n",
       "    </tr>\n",
       "    <tr>\n",
       "      <th>1</th>\n",
       "      <td>D'aww! He matches this background colour I'm s...</td>\n",
       "      <td>daww! he matches this background colour im see...</td>\n",
       "    </tr>\n",
       "    <tr>\n",
       "      <th>2</th>\n",
       "      <td>Hey man, I'm really not trying to edit war. It...</td>\n",
       "      <td>hey man im really not trying to edit war its j...</td>\n",
       "    </tr>\n",
       "    <tr>\n",
       "      <th>3</th>\n",
       "      <td>\"\\nMore\\nI can't make any real suggestions on ...</td>\n",
       "      <td>more i cant make any real suggestions on impro...</td>\n",
       "    </tr>\n",
       "    <tr>\n",
       "      <th>4</th>\n",
       "      <td>You, sir, are my hero. Any chance you remember...</td>\n",
       "      <td>you sir are my hero any chance you remember wh...</td>\n",
       "    </tr>\n",
       "  </tbody>\n",
       "</table>\n",
       "</div>"
      ],
      "text/plain": [
       "                                        comment_text  \\\n",
       "0  Explanation\\nWhy the edits made under my usern...   \n",
       "1  D'aww! He matches this background colour I'm s...   \n",
       "2  Hey man, I'm really not trying to edit war. It...   \n",
       "3  \"\\nMore\\nI can't make any real suggestions on ...   \n",
       "4  You, sir, are my hero. Any chance you remember...   \n",
       "\n",
       "                                          clean_text  \n",
       "0  explanation why the edits made under my userna...  \n",
       "1  daww! he matches this background colour im see...  \n",
       "2  hey man im really not trying to edit war its j...  \n",
       "3  more i cant make any real suggestions on impro...  \n",
       "4  you sir are my hero any chance you remember wh...  "
      ]
     },
     "execution_count": 98,
     "metadata": {},
     "output_type": "execute_result"
    }
   ],
   "source": [
    "# Define a function to clean text while keeping obfuscated symbols\n",
    "def clean_text(text):\n",
    "    text = text.lower()\n",
    "    text = re.sub(r'<.*?>', '', text)  # Remove HTML\n",
    "    text = re.sub(r'https?://\\S+|www\\.\\S+', '', text)  # Remove URLs\n",
    "    text = re.sub(r'[^a-z0-9\\s@#$%&*!?]', '', text)  # Keep common obfuscation symbols\n",
    "    text = re.sub(r'\\s+', ' ', text).strip()  # Normalize spaces\n",
    "    return text\n",
    "\n",
    "# Apply cleaning\n",
    "train_df['clean_text'] = train_df['comment_text'].astype(str).apply(clean_text)\n",
    "for i in range(3):\n",
    "    print(f\"Original: {train_df['comment_text'][i]}\")\n",
    "    print(f\"Cleaned:  {train_df['clean_text'][i]}\")\n",
    "    print(\"-\" * 80)\n",
    "train_df[['comment_text', 'clean_text']].head()"
   ]
  },
  {
   "cell_type": "markdown",
   "metadata": {},
   "source": [
    "Load the BERT tokenizer (bert-base-uncased)"
   ]
  },
  {
   "cell_type": "code",
   "execution_count": 103,
   "metadata": {},
   "outputs": [],
   "source": [
    "# Load pre-trained BERT tokenizer\n",
    "tokenizer = BertTokenizer.from_pretrained(\"bert-base-uncased\")"
   ]
  },
  {
   "cell_type": "markdown",
   "metadata": {},
   "source": [
    "Split Datasets"
   ]
  },
  {
   "cell_type": "code",
   "execution_count": 100,
   "metadata": {},
   "outputs": [
    {
     "name": "stdout",
     "output_type": "stream",
     "text": [
      "Train: 127656\n",
      "Validation: 15957\n",
      "Test: 15958\n"
     ]
    }
   ],
   "source": [
    "from sklearn.model_selection import train_test_split\n",
    "\n",
    "# 80% Train, 10% Validation, 10% Test\n",
    "train_df, temp_df = train_test_split(\n",
    "    train_df,\n",
    "    test_size=0.2,\n",
    "    stratify=train_df['toxic_binary'],\n",
    "    random_state=42\n",
    ")\n",
    "\n",
    "val_df, test_df = train_test_split(\n",
    "    temp_df,\n",
    "    test_size=0.5,\n",
    "    stratify=temp_df['toxic_binary'],\n",
    "    random_state=42\n",
    ")\n",
    "\n",
    "# Show counts for each set\n",
    "print(f\"Train: {len(train_df)}\")\n",
    "print(f\"Validation: {len(val_df)}\")\n",
    "print(f\"Test: {len(test_df)}\")"
   ]
  },
  {
   "cell_type": "markdown",
   "metadata": {},
   "source": [
    "Create Special Evaluation Sets"
   ]
  },
  {
   "cell_type": "code",
   "execution_count": 104,
   "metadata": {},
   "outputs": [
    {
     "name": "stdout",
     "output_type": "stream",
     "text": [
      " ambiguous_validation_df created with 436 samples.\n"
     ]
    }
   ],
   "source": [
    "# Define common ambiguous terms that often cause false positives\n",
    "ambiguous_words = ['pussy', 'bitch', 'gay', 'kill', 'bomb']\n",
    "\n",
    "# Filter val_df to get samples containing any ambiguous term\n",
    "def contains_ambiguous(text):\n",
    "    return any(word in text for word in ambiguous_words)\n",
    "\n",
    "# Apply filter to validation set\n",
    "ambiguous_validation_df = val_df[val_df['clean_text'].apply(contains_ambiguous)]\n",
    "\n",
    "print(f\" ambiguous_validation_df created with {len(ambiguous_validation_df)} samples.\")"
   ]
  },
  {
   "cell_type": "code",
   "execution_count": 112,
   "metadata": {},
   "outputs": [
    {
     "name": "stdout",
     "output_type": "stream",
     "text": [
      "✅ Balanced validation set created with 3244 samples (Toxic: 1622, Non-Toxic: 1622)\n"
     ]
    }
   ],
   "source": [
    "# Count available samples in each class\n",
    "num_toxic = val_df[val_df['toxic_binary'] == 1].shape[0]\n",
    "num_non_toxic = val_df[val_df['toxic_binary'] == 0].shape[0]\n",
    "\n",
    "# Choose the smaller count\n",
    "sample_size = min(num_toxic, num_non_toxic)\n",
    "\n",
    "# Sample equally from both classes\n",
    "toxic_samples = val_df[val_df['toxic_binary'] == 1].sample(n=sample_size, random_state=42)\n",
    "non_toxic_samples = val_df[val_df['toxic_binary'] == 0].sample(n=sample_size, random_state=42)\n",
    "\n",
    "# Combine and shuffle\n",
    "balanced_validation_df = pd.concat([toxic_samples, non_toxic_samples]).sample(frac=1, random_state=42)\n",
    "\n",
    "print(f\"✅ Balanced validation set created with {len(balanced_validation_df)} samples (Toxic: {sample_size}, Non-Toxic: {sample_size})\")"
   ]
  },
  {
   "cell_type": "code",
   "execution_count": 106,
   "metadata": {},
   "outputs": [
    {
     "name": "stdout",
     "output_type": "stream",
     "text": [
      "Adversarial test set: 4 samples\n"
     ]
    }
   ],
   "source": [
    "# Load a sample of unintended bias dataset\n",
    "bias_df = pd.read_csv(\"data/all_data.csv\", usecols=['comment_text', 'toxicity'], nrows=100000)\n",
    "bias_df['toxic_binary'] = (bias_df['toxicity'] > 0.5).astype(int)\n",
    "\n",
    "# Obfuscated term filter\n",
    "obfuscated_terms = ['k1ll', 'b!tch', '@sshole', 'f@ggot', 'idi0t']\n",
    "\n",
    "def contains_obfuscated(text):\n",
    "    return any(term in text.lower() for term in obfuscated_terms)\n",
    "\n",
    "adversarial_test_df = bias_df[bias_df['comment_text'].apply(contains_obfuscated)]\n",
    "print(f\"Adversarial test set: {len(adversarial_test_df)} samples\")"
   ]
  },
  {
   "cell_type": "markdown",
   "metadata": {},
   "source": [
    "Tokenization Helper and PyTorch Dataset"
   ]
  },
  {
   "cell_type": "code",
   "execution_count": null,
   "metadata": {},
   "outputs": [],
   "source": [
    "# Tokenization helper function\n",
    "def tokenize_text(texts, tokenizer, max_len=128):\n",
    "    return tokenizer(\n",
    "        list(texts),\n",
    "        padding='max_length',\n",
    "        truncation=True,\n",
    "        max_length=max_len,\n",
    "        return_tensors=\"pt\"\n",
    "    )\n",
    "\n",
    "class ToxicDataset(Dataset):\n",
    "    def __init__(self, texts, labels, tokenizer, max_len=128):\n",
    "        self.texts = list(texts)\n",
    "        self.labels = labels.values\n",
    "        self.tokenizer = tokenizer\n",
    "        self.max_len = max_len\n",
    "\n",
    "    def __len__(self):\n",
    "        return len(self.labels)\n",
    "\n",
    "    def __getitem__(self, idx):\n",
    "        # Tokenize one sample at a time (faster and memory-safe)\n",
    "        encoding = self.tokenizer(\n",
    "            self.texts[idx],\n",
    "            truncation=True,\n",
    "            padding='max_length',\n",
    "            max_length=self.max_len,\n",
    "            return_tensors='pt'\n",
    "        )\n",
    "        item = {key: val.squeeze(0) for key, val in encoding.items()}  # remove batch dim\n",
    "        item['labels'] = torch.tensor(self.labels[idx], dtype=torch.long)\n",
    "        return item\n",
    "\n",
    "# # Custom PyTorch Dataset\n",
    "# class ToxicDataset(Dataset):\n",
    "#     def __init__(self, texts, labels, tokenizer, max_len=128):\n",
    "#         self.encodings = tokenize_text(texts, tokenizer, max_len)\n",
    "#         self.labels = torch.tensor(labels.values, dtype=torch.long)\n",
    "\n",
    "#     def __len__(self):\n",
    "#         return len(self.labels)\n",
    "\n",
    "#     def __getitem__(self, idx):\n",
    "#         item = {key: val[idx] for key, val in self.encodings.items()}\n",
    "#         item['labels'] = self.labels[idx]\n",
    "#         return item"
   ]
  },
  {
   "cell_type": "code",
   "execution_count": 115,
   "metadata": {},
   "outputs": [
    {
     "name": "stdout",
     "output_type": "stream",
     "text": [
      "✅ All DataLoaders are ready.\n"
     ]
    }
   ],
   "source": [
    "# Batch size for all loaders\n",
    "BATCH_SIZE = 16\n",
    "\n",
    "# Datasets\n",
    "train_dataset = ToxicDataset(train_df['clean_text'], train_df['toxic_binary'], tokenizer)\n",
    "val_dataset = ToxicDataset(val_df['clean_text'], val_df['toxic_binary'], tokenizer)\n",
    "test_dataset = ToxicDataset(test_df['clean_text'], test_df['toxic_binary'], tokenizer)\n",
    "\n",
    "fp_dataset = ToxicDataset(ambiguous_validation_df['clean_text'], ambiguous_validation_df['toxic_binary'], tokenizer)\n",
    "balanced_val_dataset = ToxicDataset(balanced_validation_df['clean_text'], balanced_validation_df['toxic_binary'], tokenizer)\n",
    "adversarial_test_dataset = ToxicDataset(adversarial_test_df['comment_text'], adversarial_test_df['toxic_binary'], tokenizer)\n",
    "\n",
    "# DataLoaders\n",
    "train_loader = DataLoader(train_dataset, batch_size=BATCH_SIZE, shuffle=True)\n",
    "val_loader = DataLoader(val_dataset, batch_size=BATCH_SIZE)\n",
    "test_loader = DataLoader(test_dataset, batch_size=BATCH_SIZE)\n",
    "\n",
    "fp_loader = DataLoader(fp_dataset, batch_size=BATCH_SIZE)\n",
    "balanced_val_loader = DataLoader(balanced_val_dataset, batch_size=BATCH_SIZE)\n",
    "adversarial_test_loader = DataLoader(adversarial_test_dataset, batch_size=BATCH_SIZE)\n",
    "\n",
    "print(\"✅ All DataLoaders are ready.\")"
   ]
  },
  {
   "cell_type": "code",
   "execution_count": null,
   "metadata": {},
   "outputs": [
    {
     "name": "stdout",
     "output_type": "stream",
     "text": [
      "Train Dataset Size: 127656\n",
      "Validation Dataset Size: 15957\n",
      "Test Dataset Size: 15958\n",
      "Ambiguous Validation Set Size: 436\n",
      "Balanced Validation Set Size: 3244\n",
      "Adversarial Test Set Size: 4\n"
     ]
    }
   ],
   "source": [
    "# # Helper function to peek into one batch\n",
    "# def print_batch(loader, name):\n",
    "#     print(f\"\\n📦 First batch from {name}:\")\n",
    "#     batch = next(iter(loader))\n",
    "#     print(\"input_ids shape:\", batch['input_ids'].shape)\n",
    "#     print(\"attention_mask shape:\", batch['attention_mask'].shape)\n",
    "#     print(\"labels shape:\", batch['labels'].shape)\n",
    "\n",
    "# # Print batch shapes\n",
    "# print_batch(train_loader, \"train_loader\")\n",
    "# print_batch(val_loader, \"val_loader\")\n",
    "# print_batch(test_loader, \"test_loader\")\n",
    "\n",
    "# print_batch(fp_loader, \"fp_loader (ambiguous)\")\n",
    "# print_batch(balanced_val_loader, \"balanced_val_loader (balanced)\")\n",
    "# print_batch(adversarial_test_loader, \"adversarial_test_loader (obfuscated)\")\n",
    "\n",
    "\n",
    "print(f\"Train Dataset Size: {len(train_dataset)}\")\n",
    "print(f\"Validation Dataset Size: {len(val_dataset)}\")\n",
    "print(f\"Test Dataset Size: {len(test_dataset)}\")\n",
    "\n",
    "print(f\"Ambiguous Validation Set Size: {len(fp_dataset)}\")\n",
    "print(f\"Balanced Validation Set Size: {len(balanced_val_dataset)}\")\n",
    "print(f\"Adversarial Test Set Size: {len(adversarial_test_dataset)}\")\n",
    "\n"
   ]
  },
  {
   "cell_type": "markdown",
   "metadata": {},
   "source": []
  }
 ],
 "metadata": {
  "kernelspec": {
   "display_name": "my_nltk_env",
   "language": "python",
   "name": "python3"
  },
  "language_info": {
   "codemirror_mode": {
    "name": "ipython",
    "version": 3
   },
   "file_extension": ".py",
   "mimetype": "text/x-python",
   "name": "python",
   "nbconvert_exporter": "python",
   "pygments_lexer": "ipython3",
   "version": "3.9.18"
  }
 },
 "nbformat": 4,
 "nbformat_minor": 2
}
